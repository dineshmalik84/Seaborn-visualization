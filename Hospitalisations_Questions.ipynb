{
 "cells": [
  {
   "cell_type": "markdown",
   "metadata": {},
   "source": [
    "# Python for Data Science Quiz"
   ]
  },
  {
   "cell_type": "markdown",
   "metadata": {},
   "source": [
    "## This quiz is to test your understanding on the concepts learnt in class during the \n",
    "## Python for Data Science Course. \n",
    "## Background of the data - The dataset to be used for the quiz pertains to the \n",
    "## number of hospitalisations under the scheme Ayushman Bharat - Pradhan \n",
    "## Mantri Jan Arogya Yojana (AB-PMJAY), this data is as on 19 June, 2019.\n",
    "## The data contains number of cases of hospitalisation in public and private hospitalisations \n",
    "## state/ UT wise and on an all India level.\n",
    "## PMJAY is a scheme which provides health cover of Rs. 5 Lakhs per family per year, for \n",
    "## secondary and tertiary care hospitalization across public and private empaneled hospitals\n",
    "## in India. State/UT contains the list of states and union territories, Public column contains\n",
    "## hospitalisations in public hospitals and Private column contains list of hospitalisations in \n",
    "## private hospitals. "
   ]
  },
  {
   "cell_type": "code",
   "execution_count": 1,
   "metadata": {},
   "outputs": [],
   "source": [
    "import numpy as np\n",
    "import pandas as pd\n",
    "import matplotlib.pyplot as plt\n",
    "import seaborn as sns\n",
    "sns.set(color_codes=True)\n",
    "%matplotlib inline"
   ]
  },
  {
   "cell_type": "markdown",
   "metadata": {},
   "source": [
    "## Question 1: Import the dataset."
   ]
  },
  {
   "cell_type": "code",
   "execution_count": 2,
   "metadata": {},
   "outputs": [],
   "source": [
    "df = pd.read_csv('hospitalisations.csv')"
   ]
  },
  {
   "cell_type": "markdown",
   "metadata": {},
   "source": [
    "## Question 2: How many rows and columns does the data set have?"
   ]
  },
  {
   "cell_type": "code",
   "execution_count": 6,
   "metadata": {},
   "outputs": [
    {
     "name": "stdout",
     "output_type": "stream",
     "text": [
      "The data set as 32 rows and 3 columns\n"
     ]
    }
   ],
   "source": [
    "print(f'The data set as {df.shape[0]} rows and {df.shape[1]} columns')"
   ]
  },
  {
   "cell_type": "markdown",
   "metadata": {},
   "source": [
    "## Question 3: Does the data set have missing values? If yes, how many?"
   ]
  },
  {
   "cell_type": "code",
   "execution_count": 10,
   "metadata": {},
   "outputs": [
    {
     "data": {
      "text/plain": [
       "State/UT    0\n",
       "Private     2\n",
       "Public      2\n",
       "dtype: int64"
      ]
     },
     "execution_count": 10,
     "metadata": {},
     "output_type": "execute_result"
    }
   ],
   "source": [
    "df.isnull().sum()"
   ]
  },
  {
   "cell_type": "markdown",
   "metadata": {},
   "source": [
    "## Question 4: Drop the NA values."
   ]
  },
  {
   "cell_type": "code",
   "execution_count": 11,
   "metadata": {},
   "outputs": [],
   "source": [
    "df.dropna(axis=0,inplace=True)"
   ]
  },
  {
   "cell_type": "markdown",
   "metadata": {},
   "source": [
    "## Question 5: Create a new column Total which contains a sum of private and public\n",
    "## hospitalisations. So the column Total should be a summation of the two columns\n",
    "## Public and Private."
   ]
  },
  {
   "cell_type": "code",
   "execution_count": 14,
   "metadata": {},
   "outputs": [
    {
     "data": {
      "text/html": [
       "<div>\n",
       "<style scoped>\n",
       "    .dataframe tbody tr th:only-of-type {\n",
       "        vertical-align: middle;\n",
       "    }\n",
       "\n",
       "    .dataframe tbody tr th {\n",
       "        vertical-align: top;\n",
       "    }\n",
       "\n",
       "    .dataframe thead th {\n",
       "        text-align: right;\n",
       "    }\n",
       "</style>\n",
       "<table border=\"1\" class=\"dataframe\">\n",
       "  <thead>\n",
       "    <tr style=\"text-align: right;\">\n",
       "      <th></th>\n",
       "      <th>State/UT</th>\n",
       "      <th>Private</th>\n",
       "      <th>Public</th>\n",
       "      <th>Total</th>\n",
       "    </tr>\n",
       "  </thead>\n",
       "  <tbody>\n",
       "    <tr>\n",
       "      <th>0</th>\n",
       "      <td>Andaman and Nicobar Islands</td>\n",
       "      <td>1.0</td>\n",
       "      <td>21.0</td>\n",
       "      <td>22.0</td>\n",
       "    </tr>\n",
       "    <tr>\n",
       "      <th>1</th>\n",
       "      <td>Andhra Pradesh</td>\n",
       "      <td>97863.0</td>\n",
       "      <td>34385.0</td>\n",
       "      <td>132248.0</td>\n",
       "    </tr>\n",
       "    <tr>\n",
       "      <th>2</th>\n",
       "      <td>Arunachal Pradesh</td>\n",
       "      <td>5.0</td>\n",
       "      <td>630.0</td>\n",
       "      <td>635.0</td>\n",
       "    </tr>\n",
       "    <tr>\n",
       "      <th>3</th>\n",
       "      <td>Assam</td>\n",
       "      <td>14350.0</td>\n",
       "      <td>33553.0</td>\n",
       "      <td>47903.0</td>\n",
       "    </tr>\n",
       "    <tr>\n",
       "      <th>4</th>\n",
       "      <td>Bihar</td>\n",
       "      <td>11747.0</td>\n",
       "      <td>34814.0</td>\n",
       "      <td>46561.0</td>\n",
       "    </tr>\n",
       "  </tbody>\n",
       "</table>\n",
       "</div>"
      ],
      "text/plain": [
       "                      State/UT  Private   Public     Total\n",
       "0  Andaman and Nicobar Islands      1.0     21.0      22.0\n",
       "1               Andhra Pradesh  97863.0  34385.0  132248.0\n",
       "2            Arunachal Pradesh      5.0    630.0     635.0\n",
       "3                        Assam  14350.0  33553.0   47903.0\n",
       "4                        Bihar  11747.0  34814.0   46561.0"
      ]
     },
     "execution_count": 14,
     "metadata": {},
     "output_type": "execute_result"
    }
   ],
   "source": [
    "df[\"Total\"]= df[\"Private\"]+df[\"Public\"]\n",
    "df.head()"
   ]
  },
  {
   "cell_type": "markdown",
   "metadata": {},
   "source": [
    "## Question 6: Which State or UT is the unhealthiest? (i.e. maximum number of hospitalisations) \n",
    "## HINT : Do not include Grand Total"
   ]
  },
  {
   "cell_type": "code",
   "execution_count": 29,
   "metadata": {},
   "outputs": [
    {
     "data": {
      "text/html": [
       "<div>\n",
       "<style scoped>\n",
       "    .dataframe tbody tr th:only-of-type {\n",
       "        vertical-align: middle;\n",
       "    }\n",
       "\n",
       "    .dataframe tbody tr th {\n",
       "        vertical-align: top;\n",
       "    }\n",
       "\n",
       "    .dataframe thead th {\n",
       "        text-align: right;\n",
       "    }\n",
       "</style>\n",
       "<table border=\"1\" class=\"dataframe\">\n",
       "  <thead>\n",
       "    <tr style=\"text-align: right;\">\n",
       "      <th></th>\n",
       "      <th>State/UT</th>\n",
       "    </tr>\n",
       "  </thead>\n",
       "  <tbody>\n",
       "    <tr>\n",
       "      <th>6</th>\n",
       "      <td>Chhattisgarh</td>\n",
       "    </tr>\n",
       "  </tbody>\n",
       "</table>\n",
       "</div>"
      ],
      "text/plain": [
       "       State/UT\n",
       "6  Chhattisgarh"
      ]
     },
     "execution_count": 29,
     "metadata": {},
     "output_type": "execute_result"
    }
   ],
   "source": [
    "df.sort_values(by='Total',ascending=False).head(2).iloc[1: ,0:1]"
   ]
  },
  {
   "cell_type": "markdown",
   "metadata": {},
   "source": [
    "## Question 7: Chhattisgarh accounts for roughly 18% share in the total hospitalisations in India (assuming these are the only states/UTs in India). True for False?"
   ]
  },
  {
   "cell_type": "code",
   "execution_count": 49,
   "metadata": {},
   "outputs": [
    {
     "data": {
      "text/plain": [
       "6    553937.0\n",
       "Name: Total, dtype: float64"
      ]
     },
     "execution_count": 49,
     "metadata": {},
     "output_type": "execute_result"
    }
   ],
   "source": [
    "df[df[\"State/UT\"] == 'Chhattisgarh'][\"Total\"]"
   ]
  },
  {
   "cell_type": "code",
   "execution_count": 50,
   "metadata": {},
   "outputs": [
    {
     "data": {
      "text/plain": [
       "31    2935313.0\n",
       "Name: Total, dtype: float64"
      ]
     },
     "execution_count": 50,
     "metadata": {},
     "output_type": "execute_result"
    }
   ],
   "source": [
    "df[df[\"State/UT\"] == 'Grand Total'][\"Total\"]"
   ]
  },
  {
   "cell_type": "code",
   "execution_count": 51,
   "metadata": {},
   "outputs": [
    {
     "data": {
      "text/plain": [
       "18.87147980470907"
      ]
     },
     "execution_count": 51,
     "metadata": {},
     "output_type": "execute_result"
    }
   ],
   "source": [
    "553937.0*100/2935313.0"
   ]
  },
  {
   "cell_type": "markdown",
   "metadata": {},
   "source": [
    "## Question 8: In Dadra and Nagar Haveli, which type of hospitals do people prefer?"
   ]
  },
  {
   "cell_type": "code",
   "execution_count": 52,
   "metadata": {},
   "outputs": [
    {
     "data": {
      "text/html": [
       "<div>\n",
       "<style scoped>\n",
       "    .dataframe tbody tr th:only-of-type {\n",
       "        vertical-align: middle;\n",
       "    }\n",
       "\n",
       "    .dataframe tbody tr th {\n",
       "        vertical-align: top;\n",
       "    }\n",
       "\n",
       "    .dataframe thead th {\n",
       "        text-align: right;\n",
       "    }\n",
       "</style>\n",
       "<table border=\"1\" class=\"dataframe\">\n",
       "  <thead>\n",
       "    <tr style=\"text-align: right;\">\n",
       "      <th></th>\n",
       "      <th>State/UT</th>\n",
       "      <th>Private</th>\n",
       "      <th>Public</th>\n",
       "      <th>Total</th>\n",
       "    </tr>\n",
       "  </thead>\n",
       "  <tbody>\n",
       "    <tr>\n",
       "      <th>7</th>\n",
       "      <td>Dadra and Nagar Haveli</td>\n",
       "      <td>782.0</td>\n",
       "      <td>10940.0</td>\n",
       "      <td>11722.0</td>\n",
       "    </tr>\n",
       "  </tbody>\n",
       "</table>\n",
       "</div>"
      ],
      "text/plain": [
       "                 State/UT  Private   Public    Total\n",
       "7  Dadra and Nagar Haveli    782.0  10940.0  11722.0"
      ]
     },
     "execution_count": 52,
     "metadata": {},
     "output_type": "execute_result"
    }
   ],
   "source": [
    "df[df['State/UT'] == 'Dadra and Nagar Haveli']"
   ]
  },
  {
   "cell_type": "markdown",
   "metadata": {},
   "source": [
    "## Question 9: Plot the total hospitalisations in a plot of your choice and comment on the \n",
    "## healthiest State/UT. (Assuming that the only parameter for Healthiest is the number of \n",
    "## hospitalisations only)"
   ]
  },
  {
   "cell_type": "code",
   "execution_count": 61,
   "metadata": {},
   "outputs": [
    {
     "data": {
      "text/plain": [
       "<AxesSubplot:xlabel='Total', ylabel='State/UT'>"
      ]
     },
     "execution_count": 61,
     "metadata": {},
     "output_type": "execute_result"
    },
    {
     "data": {
      "image/png": "[encoded data removed]",
      "text/plain": [
       "<Figure size 864x504 with 1 Axes>"
      ]
     },
     "metadata": {
      "needs_background": "light"
     },
     "output_type": "display_data"
    }
   ],
   "source": [
    "plt.figure(figsize=(12,7))\n",
    "df1 = df.iloc[:-1,:]\n",
    "df1\n",
    "sns.barplot(y=df1['State/UT'],x=df1['Total'],data=df1.sort_values(by='Total'),orient='h')"
   ]
  },
  {
   "cell_type": "code",
   "execution_count": 64,
   "metadata": {},
   "outputs": [
    {
     "data": {
      "image/png": "[encoded data removed]",
      "text/plain": [
       "<Figure size 864x504 with 1 Axes>"
      ]
     },
     "metadata": {
      "needs_background": "light"
     },
     "output_type": "display_data"
    }
   ],
   "source": [
    "df2 = df1.sort_values(by='Total')\n",
    "plt.figure(figsize=(12,7))\n",
    "sns.barplot(y=df2['State/UT'],x=df2['Total'],data=df2,orient='h')\n",
    "plt.xscale('log')"
   ]
  },
  {
   "cell_type": "markdown",
   "metadata": {},
   "source": [
    "## Question 10: Public Hospitalisations are more on an all India level as compared to state/UT level. True or False? \n",
    "## HINT: Calculate the percentage of public hospitalisation (public/total), then find out the average percentage of all states using the mean() function. Compare this average percentage (state) with the grand total (all India) percentage and comment."
   ]
  },
  {
   "cell_type": "code",
   "execution_count": 68,
   "metadata": {},
   "outputs": [
    {
     "data": {
      "text/html": [
       "<div>\n",
       "<style scoped>\n",
       "    .dataframe tbody tr th:only-of-type {\n",
       "        vertical-align: middle;\n",
       "    }\n",
       "\n",
       "    .dataframe tbody tr th {\n",
       "        vertical-align: top;\n",
       "    }\n",
       "\n",
       "    .dataframe thead th {\n",
       "        text-align: right;\n",
       "    }\n",
       "</style>\n",
       "<table border=\"1\" class=\"dataframe\">\n",
       "  <thead>\n",
       "    <tr style=\"text-align: right;\">\n",
       "      <th></th>\n",
       "      <th>State/UT</th>\n",
       "      <th>Private</th>\n",
       "      <th>Public</th>\n",
       "      <th>Total</th>\n",
       "      <th>Public_Pct</th>\n",
       "    </tr>\n",
       "  </thead>\n",
       "  <tbody>\n",
       "    <tr>\n",
       "      <th>0</th>\n",
       "      <td>Andaman and Nicobar Islands</td>\n",
       "      <td>1.0</td>\n",
       "      <td>21.0</td>\n",
       "      <td>22.0</td>\n",
       "      <td>0.954545</td>\n",
       "    </tr>\n",
       "    <tr>\n",
       "      <th>1</th>\n",
       "      <td>Andhra Pradesh</td>\n",
       "      <td>97863.0</td>\n",
       "      <td>34385.0</td>\n",
       "      <td>132248.0</td>\n",
       "      <td>0.260004</td>\n",
       "    </tr>\n",
       "    <tr>\n",
       "      <th>2</th>\n",
       "      <td>Arunachal Pradesh</td>\n",
       "      <td>5.0</td>\n",
       "      <td>630.0</td>\n",
       "      <td>635.0</td>\n",
       "      <td>0.992126</td>\n",
       "    </tr>\n",
       "    <tr>\n",
       "      <th>3</th>\n",
       "      <td>Assam</td>\n",
       "      <td>14350.0</td>\n",
       "      <td>33553.0</td>\n",
       "      <td>47903.0</td>\n",
       "      <td>0.700436</td>\n",
       "    </tr>\n",
       "    <tr>\n",
       "      <th>4</th>\n",
       "      <td>Bihar</td>\n",
       "      <td>11747.0</td>\n",
       "      <td>34814.0</td>\n",
       "      <td>46561.0</td>\n",
       "      <td>0.747707</td>\n",
       "    </tr>\n",
       "    <tr>\n",
       "      <th>5</th>\n",
       "      <td>Chandigarh</td>\n",
       "      <td>302.0</td>\n",
       "      <td>509.0</td>\n",
       "      <td>811.0</td>\n",
       "      <td>0.627620</td>\n",
       "    </tr>\n",
       "    <tr>\n",
       "      <th>6</th>\n",
       "      <td>Chhattisgarh</td>\n",
       "      <td>411814.0</td>\n",
       "      <td>142123.0</td>\n",
       "      <td>553937.0</td>\n",
       "      <td>0.256569</td>\n",
       "    </tr>\n",
       "    <tr>\n",
       "      <th>7</th>\n",
       "      <td>Dadra and Nagar Haveli</td>\n",
       "      <td>782.0</td>\n",
       "      <td>10940.0</td>\n",
       "      <td>11722.0</td>\n",
       "      <td>0.933288</td>\n",
       "    </tr>\n",
       "    <tr>\n",
       "      <th>8</th>\n",
       "      <td>Daman and Diu</td>\n",
       "      <td>984.0</td>\n",
       "      <td>3343.0</td>\n",
       "      <td>4327.0</td>\n",
       "      <td>0.772591</td>\n",
       "    </tr>\n",
       "    <tr>\n",
       "      <th>9</th>\n",
       "      <td>Goa</td>\n",
       "      <td>1033.0</td>\n",
       "      <td>382.0</td>\n",
       "      <td>1415.0</td>\n",
       "      <td>0.269965</td>\n",
       "    </tr>\n",
       "    <tr>\n",
       "      <th>10</th>\n",
       "      <td>Gujarat</td>\n",
       "      <td>379379.0</td>\n",
       "      <td>94845.0</td>\n",
       "      <td>474224.0</td>\n",
       "      <td>0.200000</td>\n",
       "    </tr>\n",
       "    <tr>\n",
       "      <th>11</th>\n",
       "      <td>Haryana</td>\n",
       "      <td>16341.0</td>\n",
       "      <td>10223.0</td>\n",
       "      <td>26564.0</td>\n",
       "      <td>0.384844</td>\n",
       "    </tr>\n",
       "    <tr>\n",
       "      <th>12</th>\n",
       "      <td>Himachal Pradesh</td>\n",
       "      <td>2160.0</td>\n",
       "      <td>16461.0</td>\n",
       "      <td>18621.0</td>\n",
       "      <td>0.884002</td>\n",
       "    </tr>\n",
       "    <tr>\n",
       "      <th>13</th>\n",
       "      <td>Jammu and Kashmir</td>\n",
       "      <td>9707.0</td>\n",
       "      <td>8720.0</td>\n",
       "      <td>18427.0</td>\n",
       "      <td>0.473219</td>\n",
       "    </tr>\n",
       "    <tr>\n",
       "      <th>14</th>\n",
       "      <td>Jharkhand</td>\n",
       "      <td>156760.0</td>\n",
       "      <td>24114.0</td>\n",
       "      <td>180874.0</td>\n",
       "      <td>0.133319</td>\n",
       "    </tr>\n",
       "    <tr>\n",
       "      <th>15</th>\n",
       "      <td>Karnataka</td>\n",
       "      <td>65502.0</td>\n",
       "      <td>128640.0</td>\n",
       "      <td>194142.0</td>\n",
       "      <td>0.662608</td>\n",
       "    </tr>\n",
       "    <tr>\n",
       "      <th>16</th>\n",
       "      <td>Kerala</td>\n",
       "      <td>131557.0</td>\n",
       "      <td>391079.0</td>\n",
       "      <td>522636.0</td>\n",
       "      <td>0.748282</td>\n",
       "    </tr>\n",
       "    <tr>\n",
       "      <th>18</th>\n",
       "      <td>Madhya Pradesh</td>\n",
       "      <td>29314.0</td>\n",
       "      <td>63818.0</td>\n",
       "      <td>93132.0</td>\n",
       "      <td>0.685242</td>\n",
       "    </tr>\n",
       "    <tr>\n",
       "      <th>19</th>\n",
       "      <td>Maharashtra</td>\n",
       "      <td>107977.0</td>\n",
       "      <td>31179.0</td>\n",
       "      <td>139156.0</td>\n",
       "      <td>0.224058</td>\n",
       "    </tr>\n",
       "    <tr>\n",
       "      <th>20</th>\n",
       "      <td>Manipur</td>\n",
       "      <td>725.0</td>\n",
       "      <td>2412.0</td>\n",
       "      <td>3137.0</td>\n",
       "      <td>0.768887</td>\n",
       "    </tr>\n",
       "    <tr>\n",
       "      <th>21</th>\n",
       "      <td>Meghalaya</td>\n",
       "      <td>4836.0</td>\n",
       "      <td>9016.0</td>\n",
       "      <td>13852.0</td>\n",
       "      <td>0.650881</td>\n",
       "    </tr>\n",
       "    <tr>\n",
       "      <th>22</th>\n",
       "      <td>Mizoram</td>\n",
       "      <td>441.0</td>\n",
       "      <td>12588.0</td>\n",
       "      <td>13029.0</td>\n",
       "      <td>0.966152</td>\n",
       "    </tr>\n",
       "    <tr>\n",
       "      <th>23</th>\n",
       "      <td>Nagaland</td>\n",
       "      <td>325.0</td>\n",
       "      <td>532.0</td>\n",
       "      <td>857.0</td>\n",
       "      <td>0.620770</td>\n",
       "    </tr>\n",
       "    <tr>\n",
       "      <th>25</th>\n",
       "      <td>Sikkim</td>\n",
       "      <td>21.0</td>\n",
       "      <td>91.0</td>\n",
       "      <td>112.0</td>\n",
       "      <td>0.812500</td>\n",
       "    </tr>\n",
       "    <tr>\n",
       "      <th>26</th>\n",
       "      <td>Tamil Nadu</td>\n",
       "      <td>120473.0</td>\n",
       "      <td>116701.0</td>\n",
       "      <td>237174.0</td>\n",
       "      <td>0.492048</td>\n",
       "    </tr>\n",
       "    <tr>\n",
       "      <th>27</th>\n",
       "      <td>Tripura</td>\n",
       "      <td>90.0</td>\n",
       "      <td>16702.0</td>\n",
       "      <td>16792.0</td>\n",
       "      <td>0.994640</td>\n",
       "    </tr>\n",
       "    <tr>\n",
       "      <th>28</th>\n",
       "      <td>Uttar Pradesh</td>\n",
       "      <td>89987.0</td>\n",
       "      <td>26800.0</td>\n",
       "      <td>116787.0</td>\n",
       "      <td>0.229478</td>\n",
       "    </tr>\n",
       "    <tr>\n",
       "      <th>29</th>\n",
       "      <td>Uttarakhand</td>\n",
       "      <td>30472.0</td>\n",
       "      <td>18108.0</td>\n",
       "      <td>48580.0</td>\n",
       "      <td>0.372746</td>\n",
       "    </tr>\n",
       "    <tr>\n",
       "      <th>30</th>\n",
       "      <td>West Bengal</td>\n",
       "      <td>12169.0</td>\n",
       "      <td>5467.0</td>\n",
       "      <td>17636.0</td>\n",
       "      <td>0.309991</td>\n",
       "    </tr>\n",
       "    <tr>\n",
       "      <th>31</th>\n",
       "      <td>Grand Total</td>\n",
       "      <td>1697117.0</td>\n",
       "      <td>1238196.0</td>\n",
       "      <td>2935313.0</td>\n",
       "      <td>0.421828</td>\n",
       "    </tr>\n",
       "  </tbody>\n",
       "</table>\n",
       "</div>"
      ],
      "text/plain": [
       "                       State/UT    Private     Public      Total  Public_Pct\n",
       "0   Andaman and Nicobar Islands        1.0       21.0       22.0    0.954545\n",
       "1                Andhra Pradesh    97863.0    34385.0   132248.0    0.260004\n",
       "2             Arunachal Pradesh        5.0      630.0      635.0    0.992126\n",
       "3                         Assam    14350.0    33553.0    47903.0    0.700436\n",
       "4                         Bihar    11747.0    34814.0    46561.0    0.747707\n",
       "5                    Chandigarh      302.0      509.0      811.0    0.627620\n",
       "6                  Chhattisgarh   411814.0   142123.0   553937.0    0.256569\n",
       "7        Dadra and Nagar Haveli      782.0    10940.0    11722.0    0.933288\n",
       "8                 Daman and Diu      984.0     3343.0     4327.0    0.772591\n",
       "9                           Goa     1033.0      382.0     1415.0    0.269965\n",
       "10                      Gujarat   379379.0    94845.0   474224.0    0.200000\n",
       "11                      Haryana    16341.0    10223.0    26564.0    0.384844\n",
       "12             Himachal Pradesh     2160.0    16461.0    18621.0    0.884002\n",
       "13            Jammu and Kashmir     9707.0     8720.0    18427.0    0.473219\n",
       "14                    Jharkhand   156760.0    24114.0   180874.0    0.133319\n",
       "15                    Karnataka    65502.0   128640.0   194142.0    0.662608\n",
       "16                       Kerala   131557.0   391079.0   522636.0    0.748282\n",
       "18               Madhya Pradesh    29314.0    63818.0    93132.0    0.685242\n",
       "19                  Maharashtra   107977.0    31179.0   139156.0    0.224058\n",
       "20                      Manipur      725.0     2412.0     3137.0    0.768887\n",
       "21                    Meghalaya     4836.0     9016.0    13852.0    0.650881\n",
       "22                      Mizoram      441.0    12588.0    13029.0    0.966152\n",
       "23                     Nagaland      325.0      532.0      857.0    0.620770\n",
       "25                       Sikkim       21.0       91.0      112.0    0.812500\n",
       "26                   Tamil Nadu   120473.0   116701.0   237174.0    0.492048\n",
       "27                      Tripura       90.0    16702.0    16792.0    0.994640\n",
       "28                Uttar Pradesh    89987.0    26800.0   116787.0    0.229478\n",
       "29                  Uttarakhand    30472.0    18108.0    48580.0    0.372746\n",
       "30                  West Bengal    12169.0     5467.0    17636.0    0.309991\n",
       "31                  Grand Total  1697117.0  1238196.0  2935313.0    0.421828"
      ]
     },
     "execution_count": 68,
     "metadata": {},
     "output_type": "execute_result"
    }
   ],
   "source": [
    "df['Public_Pct'] = df['Public']/df['Total']\n",
    "df"
   ]
  },
  {
   "cell_type": "code",
   "execution_count": 71,
   "metadata": {},
   "outputs": [
    {
     "name": "stderr",
     "output_type": "stream",
     "text": [
      "<ipython-input-71-4e9c0e7061ab>:1: SettingWithCopyWarning: \n",
      "A value is trying to be set on a copy of a slice from a DataFrame.\n",
      "Try using .loc[row_indexer,col_indexer] = value instead\n",
      "\n",
      "See the caveats in the documentation: https://pandas.pydata.org/pandas-docs/stable/user_guide/indexing.html#returning-a-view-versus-a-copy\n",
      "  df1['Public_Pct'] = df1['Public']/df1['Total']\n"
     ]
    },
    {
     "data": {
      "text/plain": [
       "0.590638596657387"
      ]
     },
     "execution_count": 71,
     "metadata": {},
     "output_type": "execute_result"
    }
   ],
   "source": [
    "df1['Public_Pct'] = df1['Public']/df1['Total']\n",
    "df1['Public_Pct'].mean()"
   ]
  },
  {
   "cell_type": "markdown",
   "metadata": {},
   "source": [
    "## Question 11: Which States/UTs have more than 50000 hospitalisations?"
   ]
  },
  {
   "cell_type": "code",
   "execution_count": 73,
   "metadata": {},
   "outputs": [
    {
     "data": {
      "text/html": [
       "<div>\n",
       "<style scoped>\n",
       "    .dataframe tbody tr th:only-of-type {\n",
       "        vertical-align: middle;\n",
       "    }\n",
       "\n",
       "    .dataframe tbody tr th {\n",
       "        vertical-align: top;\n",
       "    }\n",
       "\n",
       "    .dataframe thead th {\n",
       "        text-align: right;\n",
       "    }\n",
       "</style>\n",
       "<table border=\"1\" class=\"dataframe\">\n",
       "  <thead>\n",
       "    <tr style=\"text-align: right;\">\n",
       "      <th></th>\n",
       "      <th>State/UT</th>\n",
       "      <th>Private</th>\n",
       "      <th>Public</th>\n",
       "      <th>Total</th>\n",
       "    </tr>\n",
       "  </thead>\n",
       "  <tbody>\n",
       "    <tr>\n",
       "      <th>6</th>\n",
       "      <td>Chhattisgarh</td>\n",
       "      <td>411814.0</td>\n",
       "      <td>142123.0</td>\n",
       "      <td>553937.0</td>\n",
       "    </tr>\n",
       "    <tr>\n",
       "      <th>16</th>\n",
       "      <td>Kerala</td>\n",
       "      <td>131557.0</td>\n",
       "      <td>391079.0</td>\n",
       "      <td>522636.0</td>\n",
       "    </tr>\n",
       "    <tr>\n",
       "      <th>10</th>\n",
       "      <td>Gujarat</td>\n",
       "      <td>379379.0</td>\n",
       "      <td>94845.0</td>\n",
       "      <td>474224.0</td>\n",
       "    </tr>\n",
       "    <tr>\n",
       "      <th>26</th>\n",
       "      <td>Tamil Nadu</td>\n",
       "      <td>120473.0</td>\n",
       "      <td>116701.0</td>\n",
       "      <td>237174.0</td>\n",
       "    </tr>\n",
       "    <tr>\n",
       "      <th>15</th>\n",
       "      <td>Karnataka</td>\n",
       "      <td>65502.0</td>\n",
       "      <td>128640.0</td>\n",
       "      <td>194142.0</td>\n",
       "    </tr>\n",
       "    <tr>\n",
       "      <th>14</th>\n",
       "      <td>Jharkhand</td>\n",
       "      <td>156760.0</td>\n",
       "      <td>24114.0</td>\n",
       "      <td>180874.0</td>\n",
       "    </tr>\n",
       "    <tr>\n",
       "      <th>19</th>\n",
       "      <td>Maharashtra</td>\n",
       "      <td>107977.0</td>\n",
       "      <td>31179.0</td>\n",
       "      <td>139156.0</td>\n",
       "    </tr>\n",
       "    <tr>\n",
       "      <th>1</th>\n",
       "      <td>Andhra Pradesh</td>\n",
       "      <td>97863.0</td>\n",
       "      <td>34385.0</td>\n",
       "      <td>132248.0</td>\n",
       "    </tr>\n",
       "    <tr>\n",
       "      <th>28</th>\n",
       "      <td>Uttar Pradesh</td>\n",
       "      <td>89987.0</td>\n",
       "      <td>26800.0</td>\n",
       "      <td>116787.0</td>\n",
       "    </tr>\n",
       "    <tr>\n",
       "      <th>18</th>\n",
       "      <td>Madhya Pradesh</td>\n",
       "      <td>29314.0</td>\n",
       "      <td>63818.0</td>\n",
       "      <td>93132.0</td>\n",
       "    </tr>\n",
       "  </tbody>\n",
       "</table>\n",
       "</div>"
      ],
      "text/plain": [
       "          State/UT   Private    Public     Total\n",
       "6     Chhattisgarh  411814.0  142123.0  553937.0\n",
       "16          Kerala  131557.0  391079.0  522636.0\n",
       "10         Gujarat  379379.0   94845.0  474224.0\n",
       "26      Tamil Nadu  120473.0  116701.0  237174.0\n",
       "15       Karnataka   65502.0  128640.0  194142.0\n",
       "14       Jharkhand  156760.0   24114.0  180874.0\n",
       "19     Maharashtra  107977.0   31179.0  139156.0\n",
       "1   Andhra Pradesh   97863.0   34385.0  132248.0\n",
       "28   Uttar Pradesh   89987.0   26800.0  116787.0\n",
       "18  Madhya Pradesh   29314.0   63818.0   93132.0"
      ]
     },
     "execution_count": 73,
     "metadata": {},
     "output_type": "execute_result"
    }
   ],
   "source": [
    "df2[df2['Total'] > 50000].sort_values(by='Total',ascending=False)"
   ]
  },
  {
   "cell_type": "markdown",
   "metadata": {},
   "source": [
    "## Question 12: Which state reported exactly 1 case of private hospitalisation?"
   ]
  },
  {
   "cell_type": "code",
   "execution_count": 76,
   "metadata": {},
   "outputs": [
    {
     "data": {
      "text/plain": [
       "0    Andaman and Nicobar Islands\n",
       "Name: State/UT, dtype: object"
      ]
     },
     "execution_count": 76,
     "metadata": {},
     "output_type": "execute_result"
    }
   ],
   "source": [
    "df2[df2['Private']==1]['State/UT']"
   ]
  },
  {
   "cell_type": "markdown",
   "metadata": {},
   "source": [
    "## Question 13: Which State/UT has maximum number of people admitted to public hospitals?"
   ]
  },
  {
   "cell_type": "code",
   "execution_count": 79,
   "metadata": {},
   "outputs": [
    {
     "data": {
      "text/html": [
       "<div>\n",
       "<style scoped>\n",
       "    .dataframe tbody tr th:only-of-type {\n",
       "        vertical-align: middle;\n",
       "    }\n",
       "\n",
       "    .dataframe tbody tr th {\n",
       "        vertical-align: top;\n",
       "    }\n",
       "\n",
       "    .dataframe thead th {\n",
       "        text-align: right;\n",
       "    }\n",
       "</style>\n",
       "<table border=\"1\" class=\"dataframe\">\n",
       "  <thead>\n",
       "    <tr style=\"text-align: right;\">\n",
       "      <th></th>\n",
       "      <th>State/UT</th>\n",
       "      <th>Private</th>\n",
       "      <th>Public</th>\n",
       "      <th>Total</th>\n",
       "    </tr>\n",
       "  </thead>\n",
       "  <tbody>\n",
       "    <tr>\n",
       "      <th>16</th>\n",
       "      <td>Kerala</td>\n",
       "      <td>131557.0</td>\n",
       "      <td>391079.0</td>\n",
       "      <td>522636.0</td>\n",
       "    </tr>\n",
       "  </tbody>\n",
       "</table>\n",
       "</div>"
      ],
      "text/plain": [
       "   State/UT   Private    Public     Total\n",
       "16   Kerala  131557.0  391079.0  522636.0"
      ]
     },
     "execution_count": 79,
     "metadata": {},
     "output_type": "execute_result"
    }
   ],
   "source": [
    "df2.sort_values(by='Public',ascending=False).head(1)"
   ]
  },
  {
   "cell_type": "markdown",
   "metadata": {},
   "source": [
    "## Question 14: Which state among Tripura and Gujarat witnessed more hospitalisations? \n",
    "## (in absolute numbers)"
   ]
  },
  {
   "cell_type": "code",
   "execution_count": 82,
   "metadata": {},
   "outputs": [
    {
     "data": {
      "text/html": [
       "<div>\n",
       "<style scoped>\n",
       "    .dataframe tbody tr th:only-of-type {\n",
       "        vertical-align: middle;\n",
       "    }\n",
       "\n",
       "    .dataframe tbody tr th {\n",
       "        vertical-align: top;\n",
       "    }\n",
       "\n",
       "    .dataframe thead th {\n",
       "        text-align: right;\n",
       "    }\n",
       "</style>\n",
       "<table border=\"1\" class=\"dataframe\">\n",
       "  <thead>\n",
       "    <tr style=\"text-align: right;\">\n",
       "      <th></th>\n",
       "      <th>State/UT</th>\n",
       "      <th>Private</th>\n",
       "      <th>Public</th>\n",
       "      <th>Total</th>\n",
       "    </tr>\n",
       "  </thead>\n",
       "  <tbody>\n",
       "    <tr>\n",
       "      <th>27</th>\n",
       "      <td>Tripura</td>\n",
       "      <td>90.0</td>\n",
       "      <td>16702.0</td>\n",
       "      <td>16792.0</td>\n",
       "    </tr>\n",
       "  </tbody>\n",
       "</table>\n",
       "</div>"
      ],
      "text/plain": [
       "   State/UT  Private   Public    Total\n",
       "27  Tripura     90.0  16702.0  16792.0"
      ]
     },
     "execution_count": 82,
     "metadata": {},
     "output_type": "execute_result"
    }
   ],
   "source": [
    "df2[df2['State/UT'] == 'Tripura']"
   ]
  },
  {
   "cell_type": "code",
   "execution_count": 83,
   "metadata": {},
   "outputs": [
    {
     "data": {
      "text/html": [
       "<div>\n",
       "<style scoped>\n",
       "    .dataframe tbody tr th:only-of-type {\n",
       "        vertical-align: middle;\n",
       "    }\n",
       "\n",
       "    .dataframe tbody tr th {\n",
       "        vertical-align: top;\n",
       "    }\n",
       "\n",
       "    .dataframe thead th {\n",
       "        text-align: right;\n",
       "    }\n",
       "</style>\n",
       "<table border=\"1\" class=\"dataframe\">\n",
       "  <thead>\n",
       "    <tr style=\"text-align: right;\">\n",
       "      <th></th>\n",
       "      <th>State/UT</th>\n",
       "      <th>Private</th>\n",
       "      <th>Public</th>\n",
       "      <th>Total</th>\n",
       "    </tr>\n",
       "  </thead>\n",
       "  <tbody>\n",
       "    <tr>\n",
       "      <th>10</th>\n",
       "      <td>Gujarat</td>\n",
       "      <td>379379.0</td>\n",
       "      <td>94845.0</td>\n",
       "      <td>474224.0</td>\n",
       "    </tr>\n",
       "  </tbody>\n",
       "</table>\n",
       "</div>"
      ],
      "text/plain": [
       "   State/UT   Private   Public     Total\n",
       "10  Gujarat  379379.0  94845.0  474224.0"
      ]
     },
     "execution_count": 83,
     "metadata": {},
     "output_type": "execute_result"
    }
   ],
   "source": [
    "df2[df2['State/UT'] == 'Gujarat']"
   ]
  },
  {
   "cell_type": "markdown",
   "metadata": {},
   "source": [
    "## Question 15: Are there any extreme values/ outliers present in this data set? Do these\n",
    "## values impact the analysis?"
   ]
  },
  {
   "cell_type": "code",
   "execution_count": 91,
   "metadata": {
    "scrolled": true
   },
   "outputs": [
    {
     "data": {
      "text/plain": [
       "{'whiskers': [<matplotlib.lines.Line2D at 0x21c388a8310>,\n",
       "  <matplotlib.lines.Line2D at 0x21c388a8670>],\n",
       " 'caps': [<matplotlib.lines.Line2D at 0x21c388a89d0>,\n",
       "  <matplotlib.lines.Line2D at 0x21c388a8d30>],\n",
       " 'boxes': [<matplotlib.lines.Line2D at 0x21c38898f70>],\n",
       " 'medians': [<matplotlib.lines.Line2D at 0x21c388b40d0>],\n",
       " 'fliers': [<matplotlib.lines.Line2D at 0x21c388b4430>],\n",
       " 'means': []}"
      ]
     },
     "execution_count": 91,
     "metadata": {},
     "output_type": "execute_result"
    },
    {
     "data": {
      "image/png": "[encoded data removed]",
      "text/plain": [
       "<Figure size 1600x1600 with 4 Axes>"
      ]
     },
     "metadata": {
      "needs_background": "light"
     },
     "output_type": "display_data"
    }
   ],
   "source": [
    "plt.figure(figsize=(20, 20), dpi=80)\n",
    "plt.subplot(2,2,1)\n",
    "plt.boxplot(df1['Private'])\n",
    "plt.subplot(2,2,2)\n",
    "plt.boxplot(df1['Public'])\n",
    "plt.subplot(2,2,3)\n",
    "plt.boxplot(df1['Total'])\n",
    "plt.subplot(2,2,4)\n",
    "plt.boxplot(df1['Public_Pct'])"
   ]
  },
  {
   "cell_type": "markdown",
   "metadata": {},
   "source": [
    "THE END!"
   ]
  }
 ],
 "metadata": {
  "kernelspec": {
   "display_name": "Python 3",
   "language": "python",
   "name": "python3"
  },
  "language_info": {
   "codemirror_mode": {
    "name": "ipython",
    "version": 3
   },
   "file_extension": ".py",
   "mimetype": "text/x-python",
   "name": "python",
   "nbconvert_exporter": "python",
   "pygments_lexer": "ipython3",
   "version": "3.8.8"
  }
 },
 "nbformat": 4,
 "nbformat_minor": 2
}
